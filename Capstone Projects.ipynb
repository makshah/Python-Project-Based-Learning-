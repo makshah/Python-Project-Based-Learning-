{
 "cells": [
  {
   "cell_type": "markdown",
   "metadata": {},
   "source": [
    "**Find PI to the Nth Digit** - Enter a number and have the program generate &pi; (pi) up to that many decimal places. Keep a limit to how far the program will go."
   ]
  },
  {
   "cell_type": "code",
   "execution_count": 2,
   "metadata": {},
   "outputs": [
    {
     "name": "stdout",
     "output_type": "stream",
     "text": [
      "Enter decimal value limit: 5\n",
      "3.14286\n"
     ]
    }
   ],
   "source": [
    "n = int(input(\"Enter decimal value limit: \"))\n",
    "a = 22/7\n",
    "print(round(a,n))"
   ]
  },
  {
   "cell_type": "markdown",
   "metadata": {},
   "source": [
    "**Find e to the Nth Digit** - Just like the previous problem, but with e instead of &pi; (pi). Enter a number and have the program generate e up to that many decimal places. Keep a limit to how far the program will go."
   ]
  },
  {
   "cell_type": "code",
   "execution_count": 3,
   "metadata": {},
   "outputs": [
    {
     "name": "stdout",
     "output_type": "stream",
     "text": [
      "Enter decimal value limit: 5\n",
      "2.71828\n"
     ]
    }
   ],
   "source": [
    "import math as m\n",
    "n = int(input(\"Enter decimal value limit: \"))\n",
    "print(round(m.exp(1),n))"
   ]
  },
  {
   "cell_type": "markdown",
   "metadata": {},
   "source": [
    "**Fibonacci Sequence** - Enter a number and have the program generate the Fibonacci sequence to that number or to the Nth number."
   ]
  },
  {
   "cell_type": "code",
   "execution_count": 14,
   "metadata": {},
   "outputs": [
    {
     "name": "stdout",
     "output_type": "stream",
     "text": [
      "Enter the limit of Fibonacci series: 7\n",
      "[0, 1, 1, 1, 1, 2, 1, 2, 3, 2, 3, 5, 3, 5, 8]\n"
     ]
    }
   ],
   "source": [
    "n = int(input(\"Enter the limit of Fibonacci series: \"))\n",
    "f = 0\n",
    "s = 1\n",
    "sequence = []\n",
    "t = 1\n",
    "while(t<n):\n",
    "    t = f + s\n",
    "    sequence.append(f)\n",
    "    sequence.append(s)\n",
    "    sequence.append(t)\n",
    "    f = s\n",
    "    s = t\n",
    "print(sequence)"
   ]
  }
 ],
 "metadata": {
  "kernelspec": {
   "display_name": "Python 3",
   "language": "python",
   "name": "python3"
  },
  "language_info": {
   "codemirror_mode": {
    "name": "ipython",
    "version": 3
   },
   "file_extension": ".py",
   "mimetype": "text/x-python",
   "name": "python",
   "nbconvert_exporter": "python",
   "pygments_lexer": "ipython3",
   "version": "3.6.1"
  }
 },
 "nbformat": 4,
 "nbformat_minor": 2
}

{
 "cells": [
  {
   "cell_type": "markdown",
   "metadata": {},
   "source": [
    "<h3>COIN FLIP SIMULATION</h3>\n",
    "<p>Code that simulates flipping a single coin as many number of times the user decides. This will record the outcomes and count the number of tails and heads</p>"
   ]
  },
  {
   "cell_type": "code",
   "execution_count": 32,
   "metadata": {},
   "outputs": [
    {
     "name": "stdout",
     "output_type": "stream",
     "text": [
      "Enter the number of times you want to flip the coin: 9\n",
      "The results are:\n",
      "['Heads', 'Heads', 'Heads', 'Tails', 'Tails', 'Heads', 'Heads', 'Tails', 'Heads']\n",
      "Number of heads:6\n",
      "Number of tails:3\n",
      "More number of Heads present.\n"
     ]
    }
   ],
   "source": [
    "import random\n",
    "number_of_flips = int(input(\"Enter the number of times you want to flip the coin: \"))\n",
    "flip_recorder = []\n",
    "for i in range (0,number_of_flips):\n",
    "    flip = random.choice('HT')\n",
    "    if (flip == 'H'):\n",
    "        flip_recorder.append(\"Heads\")\n",
    "    else:\n",
    "        flip_recorder.append(\"Tails\")\n",
    "print(\"The results are:\")\n",
    "print(str(flip_recorder))\n",
    "no_of_heads = flip_recorder.count(\"Heads\")\n",
    "no_of_tails = flip_recorder.count(\"Tails\")\n",
    "print(\"Number of heads:\"+str(flip_recorder.count(\"Heads\"))) \n",
    "print(\"Number of tails:\"+str(flip_recorder.count(\"Tails\")))\n",
    "if no_of_heads > no_of_tails:\n",
    "    print(\"More number of Heads present.\")\n",
    "elif no_of_heads < no_of_tails:\n",
    "    print(\"More number of Tails present.\")\n",
    "else:\n",
    "    print(\"Equal number of heads and tails.\")"
   ]
  },
  {
   "cell_type": "code",
   "execution_count": 3,
   "metadata": {
    "collapsed": true
   },
   "outputs": [],
   "source": [
    "import tkinter as tk\n",
    "import random\n",
    "\n",
    "def flipper():\n",
    "    number_of_flips = int(txt.get())\n",
    "    flip_recorder = []\n",
    "    for i in range (0,number_of_flips):\n",
    "        flip = random.choice('HT')\n",
    "        if (flip == 'H'):\n",
    "            flip_recorder.append(\"Heads\")\n",
    "        else:\n",
    "            flip_recorder.append(\"Tails\")\n",
    "        result_line.configure(text=\"The results are:\")    \n",
    "        result_holder.configure(text=flip_recorder)\n",
    "        no_of_heads = flip_recorder.count(\"Heads\")\n",
    "        no_of_tails = flip_recorder.count(\"Tails\")\n",
    "        heads_list.configure(text=\"Number of heads are:\")\n",
    "        heads_counter.configure(text=str(flip_recorder.count(\"Heads\")))\n",
    "        tails_list.configure(text=\"Number of tails are:\")\n",
    "        tails_counter.configure(text=str(flip_recorder.count(\"Tails\")))\n",
    "        if no_of_heads > no_of_tails:\n",
    "            winner_line.configure(text=\"More number of Heads.\")\n",
    "        elif no_of_heads < no_of_tails:\n",
    "            winner_line.configure(text=\"More number of Tails.\")\n",
    "        else:\n",
    "            winner_line.configure(text=\"Equal number of Heads and Tails.\")\n",
    "\n",
    "\n",
    "    \n",
    "    \n",
    "\n",
    "box = tk.Tk()\n",
    "box.title(\"Coin Flip Simulator\")\n",
    "label = tk.Label(box, text='Enter the number of times you want to flip the coin:', font=(\"Times New Roman\",15))\n",
    "label.grid(column=0, row=0)\n",
    "label.pack()\n",
    "txt = tk.Entry(box,width=15,justify='center', font=(\"Times New Roman\",15))\n",
    "txt.pack()\n",
    "result_line = tk.Label(box, text=\"\", font=(\"Times New Roman\",15))\n",
    "result_line.pack()\n",
    "result_holder = tk.Label(box,wraplength=500, text=\"\", font=(\"Times New Roman\",15))\n",
    "result_holder.pack()\n",
    "heads_list = tk.Label(box, text=\"\", font=(\"Times New Roman\",15))\n",
    "heads_list.pack()\n",
    "heads_counter = tk.Label(box, text=\"\", font=(\"Times New Roman\",15))\n",
    "heads_counter.pack()\n",
    "tails_list = tk.Label(box, text=\"\", font=(\"Times New Roman\",15))\n",
    "tails_list.pack()\n",
    "tails_counter = tk.Label(box, text=\"\", font=(\"Times New Roman\",15))\n",
    "tails_counter.pack()\n",
    "winner_line = tk.Label(box, text=\"\", font=(\"Times New Roman\",15,'bold'))\n",
    "winner_line.pack()\n",
    "button=tk.Button(box, text=\"Flip\", command=flipper, font=(\"Times New Roman\", 15, 'bold'))\n",
    "button.pack()\n",
    "box.mainloop()"
   ]
  }
 ],
 "metadata": {
  "kernelspec": {
   "display_name": "Python 3",
   "language": "python",
   "name": "python3"
  },
  "language_info": {
   "codemirror_mode": {
    "name": "ipython",
    "version": 3
   },
   "file_extension": ".py",
   "mimetype": "text/x-python",
   "name": "python",
   "nbconvert_exporter": "python",
   "pygments_lexer": "ipython3",
   "version": "3.6.1"
  }
 },
 "nbformat": 4,
 "nbformat_minor": 2
}

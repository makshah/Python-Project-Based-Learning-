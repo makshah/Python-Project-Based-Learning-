{
 "cells": [
  {
   "cell_type": "markdown",
   "metadata": {
    "collapsed": true
   },
   "source": [
    "### Problem Statement:\n",
    "Pooja would like to withdraw X $US from an ATM. The cash machine will only accept the transaction if X is a multiple of 5, and Pooja's account balance has enough cash to perform the withdrawal transaction (including bank charges). For each successful withdrawal the bank charges 0.50 US. Calculate Pooja's account balance after an attempted transaction."
   ]
  },
  {
   "cell_type": "code",
   "execution_count": 22,
   "metadata": {},
   "outputs": [
    {
     "name": "stdout",
     "output_type": "stream",
     "text": [
      "30 40\n",
      "9.5\n"
     ]
    }
   ],
   "source": [
    "a,b = input().split()\n",
    "x,y = [int(a),float(b)] \n",
    "if (y>0 and x%5 == 0 and x<y and y>=0.5+x):\n",
    "    y = y - x - 0.5\n",
    "    print(y)\n",
    "else:\n",
    "    print(y)"
   ]
  },
  {
   "cell_type": "markdown",
   "metadata": {},
   "source": [
    "### Problem Statement:\n",
    "The purpose of this problem is to verify whether the method you are using to read input data is sufficiently fast to handle problems branded with the enormous Input/Output warning. You are expected to be able to process at least 2.5MB of input data per second at runtime.\n",
    "\n",
    "<p>Input:</p>\n",
    "The input begins with two positive integers n k (n, k<=107). The next n lines of input contain one positive integer ti, not greater than 109, each."
   ]
  },
  {
   "cell_type": "code",
   "execution_count": 1,
   "metadata": {},
   "outputs": [
    {
     "name": "stdout",
     "output_type": "stream",
     "text": [
      "7 3\n",
      "1\n",
      "51\n",
      "966369\n",
      "7\n",
      "9\n",
      "999996\n",
      "11\n",
      "4\n"
     ]
    }
   ],
   "source": [
    "n,k = input().split()\n",
    "n,k = [int(n),int(k)]\n",
    "count = 0\n",
    "i = 0\n",
    "for i in range (0,n,1):\n",
    "    x = int(input())\n",
    "    if(x%k == 0):\n",
    "        count += 1\n",
    "print(count)"
   ]
  },
  {
   "cell_type": "markdown",
   "metadata": {},
   "source": [
    "### Problem Statement:\n",
    "<p>Small factorials</p>\n",
    "An integer t, 1<=t<=100, denoting the number of testcases, followed by t lines, each containing a single integer n, 1<=n<=100.\n"
   ]
  },
  {
   "cell_type": "code",
   "execution_count": 17,
   "metadata": {
    "scrolled": true
   },
   "outputs": [
    {
     "name": "stdout",
     "output_type": "stream",
     "text": [
      "4\n",
      "5\n",
      "120\n",
      "6\n",
      "720\n",
      "4\n",
      "24\n",
      "3\n",
      "6\n"
     ]
    }
   ],
   "source": [
    "n = int(input())\n",
    "for i in range(0,n):\n",
    "    fact = 1\n",
    "    x = int(input())\n",
    "    for j in range (1,x+1):\n",
    "        fact = j * fact      \n",
    "    print(fact)"
   ]
  },
  {
   "cell_type": "markdown",
   "metadata": {},
   "source": [
    "### Problem Statement:\n",
    "Given the list of numbers, you are to sort them in non decreasing order.\n",
    "<br>Input:<br>\n",
    "t – the number of numbers in list, then t lines follow [t <= 10^6]. \n",
    "Each line contains one integer: N [0 <= N <= 10^6]"
   ]
  },
  {
   "cell_type": "code",
   "execution_count": 6,
   "metadata": {
    "scrolled": false
   },
   "outputs": [
    {
     "name": "stdout",
     "output_type": "stream",
     "text": [
      "5\n",
      "1\n",
      "2\n",
      "7\n",
      "6\n",
      "4\n",
      "1\n",
      "2\n",
      "4\n",
      "6\n",
      "7\n"
     ]
    }
   ],
   "source": [
    "t = int(input())\n",
    "A = []\n",
    " \n",
    "for x in range(t):\n",
    "    A.append(int(input()))\n",
    "A.sort()\n",
    "for i in range(0,len(A)):\n",
    "    print(A[i])\n",
    " "
   ]
  },
  {
   "cell_type": "markdown",
   "metadata": {},
   "source": [
    "### Problem Statement:\n",
    "Add 2 numbers given by the user.\n",
    "<br>Input:<br> two integers first to show number of test cases. second are the numbers to be added."
   ]
  },
  {
   "cell_type": "code",
   "execution_count": 8,
   "metadata": {
    "scrolled": false
   },
   "outputs": [
    {
     "name": "stdout",
     "output_type": "stream",
     "text": [
      "4\n",
      "10 20\n",
      "30\n",
      "1 10\n",
      "11\n",
      "300 40\n",
      "340\n",
      "16 1416\n",
      "1432\n"
     ]
    }
   ],
   "source": [
    "n = int(input())\n",
    "for i in range (n):\n",
    "    x,y = input().split()\n",
    "    x,y = [int(x),int(y)]\n",
    "    print(x+y)"
   ]
  },
  {
   "cell_type": "markdown",
   "metadata": {},
   "source": [
    "### The Lead Game\n",
    "The first line of the input will contain a single integer N (N ≤ 10000) indicating the number of rounds in the game. Lines 2,3,...,N+1 describe the scores of the two players in the N rounds. Line i+1 contains two integer Si and Ti, the scores of the Player 1 and 2 respectively, in round i. You may assume that 1 ≤ Si ≤ 1000 and 1 ≤ Ti ≤ 1000."
   ]
  },
  {
   "cell_type": "code",
   "execution_count": 3,
   "metadata": {},
   "outputs": [
    {
     "name": "stdout",
     "output_type": "stream",
     "text": [
      "1\n",
      "12 1516\n",
      "2 1504\n"
     ]
    }
   ],
   "source": [
    "n=int(input())\n",
    "p1,p2,p1_total,p2_total,lead,winner=0,0,0,0,0,0\n",
    "for i in range(n):\n",
    "    p1,p2=map(int,input().split())\n",
    "    p1_total+=p1\n",
    "    p2_total+=p2\n",
    "    if abs(p1_total-p2_total)>lead:\n",
    "        lead=abs(p1_total-p2_total)\n",
    "        if p1_total>p2_total:\n",
    "            winner=1\n",
    "        else:\n",
    "            winner=2\n",
    "print (winner,lead) "
   ]
  },
  {
   "cell_type": "markdown",
   "metadata": {},
   "source": [
    "### Problem Statement\n",
    "You're given an integer N. Write a program to calculate the sum of all the digits of N."
   ]
  },
  {
   "cell_type": "code",
   "execution_count": 8,
   "metadata": {},
   "outputs": [
    {
     "name": "stdout",
     "output_type": "stream",
     "text": [
      "2\n",
      "123\n",
      "6\n",
      "456\n",
      "15\n"
     ]
    }
   ],
   "source": [
    "n = int(input())\n",
    "sum = 0\n",
    "for i in range (n):\n",
    "    a = list((input()))\n",
    "    for j in range (len(a)):\n",
    "        sum += int(a[j])\n",
    "    print(sum)\n",
    "    sum=0"
   ]
  },
  {
   "cell_type": "markdown",
   "metadata": {},
   "source": [
    "### Spell Bob\n",
    "<p>Chef likes to play with cards a lot. Today, he's playing a game with three cards. Each card has a letter written on the top face and another (possibly identical) letter written on the bottom face. Chef can arbitrarily reorder the cards and/or flip any of the cards in any way he wishes (in particular, he can leave the cards as they were). He wants to do it in such a way that the letters on the top faces of the cards, read left to right, would spell out the name of his favorite friend Bob.\n",
    "\n",
    "Determine whether it is possible for Chef to spell \"bob\" with these cards.</p>"
   ]
  },
  {
   "cell_type": "code",
   "execution_count": null,
   "metadata": {},
   "outputs": [
    {
     "name": "stdout",
     "output_type": "stream",
     "text": [
      "3\n",
      "bob\n"
     ]
    }
   ],
   "source": [
    "n = int(input())\n",
    "for i in range (n):\n",
    "    top = list(str(input()))\n",
    "    bottom = list(str(input()))\n",
    "    if(top[0]=='b'or bottom[0]=='b') and (top[1]=='o' or bottom[1]=='o') and (top[2]=='b'or bottom[2]=='b'):\n",
    "        print('yes')\n",
    "    elif(top[0]=='b'or bottom[0]=='b') and (top[1]=='b'or bottom[1]=='b') and (top[2]=='o' or bottom[2]=='o'):\n",
    "        print('yes')\n",
    "    elif(top[0]=='o' or bottom[0]=='o') and (top[1]=='b'or bottom[1]=='b') and (top[2]=='b'or bottom[2]=='b'):\n",
    "        print('yes')\n",
    "    else:\n",
    "        print('no')"
   ]
  },
  {
   "cell_type": "markdown",
   "metadata": {},
   "source": [
    "### Chef and Polygon Cakes\n",
    "<p>Since the judge panel is very strict, Chef's cakes must be beautiful and have sharp and precise internal angles in arithmetic progression.\n",
    "\n",
    "Given the number of sides, N, of the cake Chef is baking today and also the measure of its first angle(smallest angle), A, find the measure of the Kth angle.</p>"
   ]
  },
  {
   "cell_type": "code",
   "execution_count": null,
   "metadata": {
    "collapsed": true
   },
   "outputs": [],
   "source": [
    "a = 30\n",
    "n = 360/a\n",
    "k = a + (n-1)"
   ]
  }
 ],
 "metadata": {
  "kernelspec": {
   "display_name": "Python 3",
   "language": "python",
   "name": "python3"
  },
  "language_info": {
   "codemirror_mode": {
    "name": "ipython",
    "version": 3
   },
   "file_extension": ".py",
   "mimetype": "text/x-python",
   "name": "python",
   "nbconvert_exporter": "python",
   "pygments_lexer": "ipython3",
   "version": "3.6.1"
  }
 },
 "nbformat": 4,
 "nbformat_minor": 2
}

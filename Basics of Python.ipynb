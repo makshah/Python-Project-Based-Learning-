{
 "cells": [
  {
   "cell_type": "markdown",
   "metadata": {},
   "source": [
    "# Variables and Data Types:"
   ]
  },
  {
   "cell_type": "markdown",
   "metadata": {},
   "source": [
    "### 1.) Variables:\n",
    "<p>Variables cannot start with special characters or numbers although they can end with one. We can only use \"_\" underscore to start a varaible name.\n",
    "It is always recommended to use camelCasing for naming variables </p>"
   ]
  },
  {
   "cell_type": "code",
   "execution_count": 4,
   "metadata": {},
   "outputs": [
    {
     "name": "stdout",
     "output_type": "stream",
     "text": [
      "2\n",
      "4\n",
      "6\n",
      "8\n",
      "10\n",
      "12\n"
     ]
    }
   ],
   "source": [
    "a = 2\n",
    "print(a)\n",
    "\n",
    "a1 = 4\n",
    "print(a1)\n",
    "\n",
    "_a = 6\n",
    "print(_a)\n",
    "\n",
    "_a_ = 8\n",
    "print(_a_)\n",
    "\n",
    "a1 = 10\n",
    "print(a1)\n",
    "\n",
    "a_ = 12\n",
    "print(a_)\n",
    "\n",
    "#1a = 14 not allowed since starting with a special character"
   ]
  },
  {
   "cell_type": "markdown",
   "metadata": {},
   "source": [
    "### 2.) Data Type:\n",
    "<p>1. Number System:</p>\n",
    "<ul>\n",
    "<li>int</li>\n",
    "<li>float</li>\n",
    "<li>complex</li>\n",
    "</ul>\n",
    "<br></br>\n",
    "<p>2. String denotion:</p>\n",
    "<ul>\n",
    "<li>single quote ' '</li>\n",
    "<li>double quote \" \"</li>\n",
    "<li>triple quote ''' ''', \"\"\" \"\"\" [usuall used for documentation]</li>\n",
    "</ul>\n",
    "<br></br>\n",
    "<p>3. List: array denoted by sqare brackets []</p>\n",
    "<ul>\n",
    "<li>follows index propert</li>\n",
    "<li>Array</li>\n",
    "<li>example: [1,2,3,4]</li>\n",
    "<li>mutable</li>\n",
    "</ul>\n",
    "<br></br>\n",
    "<p>4. Tuple: array denoted by round brackets ()</p>\n",
    "<ul>\n",
    "<li>also follows index propert</li>\n",
    "<li>Array</li>\n",
    "<li>example: (1,2,3,4)</li>\n",
    "<li>immutable</li>\n",
    "</ul>\n",
    "<br></br>\n",
    "<p>5. Dictionary: denoted by curly brackets {}</p>\n",
    "<ul>\n",
    "<li>lookalike JSON</li>\n",
    "<li>Key: value pair propery</li>\n",
    "<li>example: {'name':'xyz','std':'BE'}</li>\n",
    "</ul>\n",
    "<br></br>\n",
    "<p>6. Set: denoted also by curly brackets {}</p>\n",
    "<ul>\n",
    "<li>follows index propert</li>\n",
    "<li>example: {1,2,3,4}</li>\n",
    "</ul>"
   ]
  },
  {
   "cell_type": "code",
   "execution_count": 99,
   "metadata": {},
   "outputs": [
    {
     "name": "stdout",
     "output_type": "stream",
     "text": [
      "<class 'int'> 10\n",
      "<class 'float'> 10.1\n",
      "<class 'complex'> (23+32j)\n"
     ]
    }
   ],
   "source": [
    "# Number System:\n",
    "\n",
    "a = 10\n",
    "b = 10.10\n",
    "c = 23 + 32j\n",
    "\n",
    "# type(variable_name)--> is used to check the data type of a variable\n",
    "\n",
    "print(type(a),a)\n",
    "print(type(b),b)\n",
    "print(type(c),c)"
   ]
  },
  {
   "cell_type": "code",
   "execution_count": 101,
   "metadata": {},
   "outputs": [
    {
     "name": "stdout",
     "output_type": "stream",
     "text": [
      "Meet P Shah\n",
      "Meet Shah\n",
      "Meet\n",
      "Shah\n"
     ]
    }
   ],
   "source": [
    "# String:\n",
    "\n",
    "sa = \"Meet P Shah\"\n",
    "sb = 'Meet Shah'\n",
    "sc = \"\"\"Meet\"\"\"\n",
    "sd = '''Shah'''\n",
    "print(sa)\n",
    "print(sb)\n",
    "print(sc)\n",
    "print(sd)"
   ]
  },
  {
   "cell_type": "code",
   "execution_count": 102,
   "metadata": {},
   "outputs": [
    {
     "name": "stdout",
     "output_type": "stream",
     "text": [
      "[1, 2, 3, 4]\n",
      "['m', 'e', 'e', 't']\n",
      "['meet', 1]\n",
      "[1, 2.55, (3+4j)]\n",
      "[[1, 2, 3], ['m', 's']]\n"
     ]
    }
   ],
   "source": [
    "# List:\n",
    "\n",
    "la = [1,2,3,4]\n",
    "lb = [\"m\", \"e\",\"e\",\"t\"]\n",
    "lc = [\"meet\", 1]\n",
    "ld = [1,2.55,3+4j]\n",
    "le = [[1,2,3],[\"m\",\"s\"]]\n",
    "print(la)\n",
    "print(lb)\n",
    "print(lc)\n",
    "print(ld)\n",
    "print(le)"
   ]
  },
  {
   "cell_type": "code",
   "execution_count": 98,
   "metadata": {},
   "outputs": [
    {
     "name": "stdout",
     "output_type": "stream",
     "text": [
      "(1, 2, 3, 4)\n",
      "('m', 'e', 'e', 't')\n",
      "('meet', 1)\n",
      "(1, 2.54433, (4.5+5j))\n",
      "((1, 2, 3), ('meet', 'shah'))\n"
     ]
    }
   ],
   "source": [
    "# Tuple:\n",
    "\n",
    "ta = (1,2,3,4)\n",
    "tb = (\"m\",\"e\",\"e\",\"t\")\n",
    "tc = (\"meet\", 1)\n",
    "td = (1, 2.54433, 4.5 + 5j)\n",
    "te = ((1,2,3),(\"meet\",\"shah\"))\n",
    "print(ta)\n",
    "print(tb)\n",
    "print(tc)\n",
    "print(td)\n",
    "print(te)"
   ]
  },
  {
   "cell_type": "code",
   "execution_count": 97,
   "metadata": {},
   "outputs": [
    {
     "name": "stdout",
     "output_type": "stream",
     "text": [
      "{'name': 'Meet Shah', 'Std': 'BE', 'Roll No': '1', 'courses': ['Python', 'Java', 'C']}\n"
     ]
    }
   ],
   "source": [
    "# Dictionary:\n",
    "\n",
    "student_dictionary = {\"name\":\"Meet Shah\",\"Std\":\"BE\",\"Roll No\":\"1\",\"courses\":[\"Python\",\"Java\",\"C\"]}\n",
    "print(student_dictionary)"
   ]
  },
  {
   "cell_type": "code",
   "execution_count": 91,
   "metadata": {},
   "outputs": [
    {
     "name": "stdout",
     "output_type": "stream",
     "text": [
      "{1, 2, 3, 4, 5, 6, 7, 8}\n",
      "{1, 2, 3}\n",
      "{8, 6, 7}\n",
      "{4, 5}\n"
     ]
    }
   ],
   "source": [
    "# Set:\n",
    "\n",
    "sea = {1,2,3,4,5}\n",
    "seb = {4,5,6,7,8}\n",
    "print(sea.union(seb))\n",
    "print(sea - seb)\n",
    "print(seb - sea)\n",
    "print(sea.intersection(seb))"
   ]
  },
  {
   "cell_type": "markdown",
   "metadata": {},
   "source": [
    "### 3.) Type Casting:\n",
    "<p>Convert datatypes.</p>"
   ]
  },
  {
   "cell_type": "code",
   "execution_count": 90,
   "metadata": {},
   "outputs": [
    {
     "name": "stdout",
     "output_type": "stream",
     "text": [
      "Enter no:23232\n",
      "<class 'str'> 23232\n"
     ]
    }
   ],
   "source": [
    "#To take data from the user we use input() method\n",
    "# syntax : input(prompt_msg)\n",
    "# it will always catch the input as String\n",
    "\n",
    "data = input(\"Enter no:\")\n",
    "print(type(data),data)"
   ]
  },
  {
   "cell_type": "code",
   "execution_count": 34,
   "metadata": {},
   "outputs": [
    {
     "name": "stdout",
     "output_type": "stream",
     "text": [
      "Enter no: 12314\n",
      "<class 'str'> 12314\n",
      "<class 'list'> ['1', '2', '3', '1', '4']\n"
     ]
    }
   ],
   "source": [
    "#Type Casting:\n",
    "\n",
    "data1 = input(\"Enter no: \")\n",
    "print(type(data1),data1)\n",
    "\n",
    "#casting 1\n",
    "#data1=float(data1)\n",
    "#print(type(data1),data1)\n",
    "\n",
    "#int, float etc cannot be type casted to string\n",
    "\n",
    "#casting 2\n",
    "data1=list(data1)\n",
    "print(type(data1),data1)"
   ]
  },
  {
   "cell_type": "markdown",
   "metadata": {},
   "source": [
    "# Assignment in Python:\n",
    "<p> Python support multiple assignment. </p>"
   ]
  },
  {
   "cell_type": "code",
   "execution_count": 37,
   "metadata": {
    "scrolled": true
   },
   "outputs": [
    {
     "name": "stdout",
     "output_type": "stream",
     "text": [
      "1 2 3\n"
     ]
    }
   ],
   "source": [
    "a,b,c = 1,2,3\n",
    "print(a,b,c)"
   ]
  },
  {
   "cell_type": "code",
   "execution_count": 1,
   "metadata": {},
   "outputs": [
    {
     "name": "stdout",
     "output_type": "stream",
     "text": [
      "a: 44 b: 20\n"
     ]
    }
   ],
   "source": [
    "# Code for swapping 2 numbers\n",
    "\n",
    "a = 20\n",
    "b = 44\n",
    "#Generic method we use in C or Java\n",
    "#c = b\n",
    "#b = a\n",
    "#a = c\n",
    "#print(\"a:\", a)\n",
    "#print(\"b:\", b)\n",
    "a,b = b,a\n",
    "print (\"a:\",a,\"b:\",b)"
   ]
  },
  {
   "cell_type": "markdown",
   "metadata": {},
   "source": [
    "# Operators in Python:\n",
    "<p> There are following 7 operators: </p>\n",
    "<ul>\n",
    "<li>Arithmetic : (+, -, *****, /, //, ****************, %)</li>\n",
    "<li>Logical : (and, or, not)</li>\n",
    "<li>Comparision : (==, !=, <, >, <=, >=) </li>\n",
    "<li>Bitwise : (&, |, >>, <<) </li>\n",
    "<li>Assignment : =</li>\n",
    "<li>Membership : (in, not in)</li>\n",
    "<li>Identity : (is, not is)</li>\n",
    "</ul>"
   ]
  },
  {
   "cell_type": "code",
   "execution_count": 93,
   "metadata": {},
   "outputs": [
    {
     "name": "stdout",
     "output_type": "stream",
     "text": [
      "Addition of 10 and 20 is 30\n",
      "Subtraction of 20 and 10 is 10\n",
      "Division of 20 and 10 is 2.0\n",
      "multiplication of 10 and 20 is 200\n",
      "Modulus of 20 and 10 is 0\n",
      "10 raised to 20 is 100000000000000000000\n",
      "Floor division gives quotient: 2\n"
     ]
    }
   ],
   "source": [
    "# Arithmetic Operator:\n",
    "\n",
    "a = 10\n",
    "b = 20\n",
    "#Formatting used to obtain a visually better output [f\"\"]\n",
    "print(f\"Addition of {a} and {b} is {a+b}\")\n",
    "print(f\"Subtraction of {b} and {a} is {b-a}\")\n",
    "print(f\"Division of {b} and {a} is {b/a}\")\n",
    "print(f\"multiplication of {a} and {b} is {a*b}\")\n",
    "print(f\"Modulus of {b} and {a} is {b%a}\")\n",
    "print(f\"{a} raised to {b} is {a**b}\")\n",
    "print(\"Floor division gives quotient:\",b//a)"
   ]
  },
  {
   "cell_type": "code",
   "execution_count": 94,
   "metadata": {},
   "outputs": [
    {
     "name": "stdout",
     "output_type": "stream",
     "text": [
      "0\n",
      "1\n",
      "2\n",
      "Not Initialized\n",
      "value is zero\n"
     ]
    }
   ],
   "source": [
    "# Logical Operator\n",
    "# Any number greater than 0 will be considered 1\n",
    "\n",
    "logica = 1\n",
    "logicb = 0 \n",
    "logicc = 2\n",
    "logicd = logica and logicb and logicc\n",
    "print(logicd)\n",
    "logicd = logica or logicb and logicc\n",
    "print(logicd)\n",
    "logicd = logica and logicb or logicc\n",
    "print(logicd)\n",
    "\n",
    "#CAN ALSO BE USED TO CHECK IF VARIABLE IS INTITALIZED IN MEMORY\n",
    "logicala = None\n",
    "logicalb = 0\n",
    "logicald = logicala or \"Not Initialized\"\n",
    "print(logicald)\n",
    "logicald = logicalb or \"value is zero\"\n",
    "print(logicald)"
   ]
  },
  {
   "cell_type": "code",
   "execution_count": 95,
   "metadata": {},
   "outputs": [
    {
     "name": "stdout",
     "output_type": "stream",
     "text": [
      "False\n",
      "True\n"
     ]
    }
   ],
   "source": [
    "# Comparision: \n",
    "\n",
    "a = 2\n",
    "b = 4\n",
    "c = -5\n",
    "\n",
    "d = a>b and a>c\n",
    "e = b>a or b>c\n",
    "print(d)\n",
    "print(e)"
   ]
  },
  {
   "cell_type": "code",
   "execution_count": 116,
   "metadata": {},
   "outputs": [
    {
     "name": "stdout",
     "output_type": "stream",
     "text": [
      "a&b: 2\n",
      "a|b: 11\n",
      "b>>1: 1\n",
      "a<<1: 20\n",
      "binary of a is: 0b1010\n"
     ]
    }
   ],
   "source": [
    "# Bitwise:\n",
    "\n",
    "a = 10\n",
    "b = 3\n",
    "print(\"a&b:\",a&b)\n",
    "print(\"a|b:\",a|b)\n",
    "print(\"b>>1:\",b>>1)\n",
    "print(\"a<<1:\",a<<1)\n",
    "print(\"binary of a is:\",bin(a))"
   ]
  },
  {
   "cell_type": "code",
   "execution_count": 119,
   "metadata": {},
   "outputs": [
    {
     "name": "stdout",
     "output_type": "stream",
     "text": [
      "5\n",
      "100\n"
     ]
    }
   ],
   "source": [
    "# Assignemnt:\n",
    "# 2 types: Simple and Compound\n",
    "\n",
    "a = 5\n",
    "print(a)\n",
    "\n",
    "a += 20\n",
    "a *= 4\n",
    "print(a)"
   ]
  },
  {
   "cell_type": "code",
   "execution_count": 137,
   "metadata": {},
   "outputs": [
    {
     "name": "stdout",
     "output_type": "stream",
     "text": [
      "True\n",
      "False\n",
      "True\n",
      "False\n",
      "True\n"
     ]
    }
   ],
   "source": [
    "# Membership:\n",
    "\n",
    "a = \"Hello world\"\n",
    "print(\"w\" in a)\n",
    "print(\"E\" in a)\n",
    "print(\"E\" not in a)\n",
    "c = [2,3]\n",
    "b = [1,[2,3],4]\n",
    "print(2 in b)\n",
    "print(c in b)"
   ]
  },
  {
   "cell_type": "code",
   "execution_count": 136,
   "metadata": {},
   "outputs": [
    {
     "name": "stdout",
     "output_type": "stream",
     "text": [
      "True\n",
      "False\n"
     ]
    }
   ],
   "source": [
    "#Identity:\n",
    "\n",
    "a = 25\n",
    "b = 45\n",
    "print(type(a) is type(b))\n",
    "c = 2.5\n",
    "print(type(a) is type(c))"
   ]
  },
  {
   "cell_type": "code",
   "execution_count": 5,
   "metadata": {},
   "outputs": [
    {
     "name": "stdout",
     "output_type": "stream",
     "text": [
      "Enter the number:682123123\n",
      "Enter the root factor:123123\n",
      "The 123123th root of 682123123 is: 1.0001652201541062\n"
     ]
    }
   ],
   "source": [
    "#PRACTICE CODE: to display root of a number entered by the user\n",
    "\n",
    "#get input\n",
    "no = input(\"Enter the number:\")\n",
    "#type cast\n",
    "no = int(no)\n",
    "#get input\n",
    "r = input(\"Enter the root factor:\")\n",
    "#type cast\n",
    "r = int(r)\n",
    "#logic\n",
    "print(f\"The {r}th root of {no} is:\", no**(1/r))"
   ]
  },
  {
   "cell_type": "markdown",
   "metadata": {},
   "source": [
    "# Decision making in Python\n",
    "<p>Python doesn't have switch case.</p>\n",
    "<p>Python uses the rules of Indendation.</p>\n",
    "<p>Decision making loops are:</p>\n",
    "<ul>\n",
    "<li>if</li>\n",
    "<li>else if</li>\n",
    "<li>if elif else</li>\n",
    "</ul>"
   ]
  },
  {
   "cell_type": "code",
   "execution_count": 6,
   "metadata": {},
   "outputs": [
    {
     "name": "stdout",
     "output_type": "stream",
     "text": [
      "c is greater\n",
      "c is greater\n"
     ]
    }
   ],
   "source": [
    "#Decision making in Python: \n",
    "\n",
    "a = 20\n",
    "b = 40\n",
    "c = 50\n",
    "\n",
    "# Normal:\n",
    "if(a>b and a>c):\n",
    "    print(\"a is greater\")\n",
    "elif(b>a and b>c):\n",
    "    print(\"b is greater\")\n",
    "else:\n",
    "    print(\"c is greater\")\n",
    "\n",
    "# Single line (recommended to use only if there are less than 3 conditions to be tested):\n",
    "print(\"a is greater\") if(a>b and a>c) else print(\"b is greater\") if(b>a and b>c) else print(\"c is greater\")"
   ]
  },
  {
   "cell_type": "code",
   "execution_count": 9,
   "metadata": {
    "scrolled": true
   },
   "outputs": [
    {
     "name": "stdout",
     "output_type": "stream",
     "text": [
      "Enter the number:60\n",
      "60 is divisible by 2 and 3 both\n"
     ]
    }
   ],
   "source": [
    "# Take number from user and check it's divisibility by 2 or 3 or both\n",
    "no = input(\"Enter the number:\")\n",
    "no = int(no)\n",
    "\n",
    "if(no%6==0):\n",
    "    print(f\"{no} is divisible by 2 and 3 both\")\n",
    "elif(no%3==0):\n",
    "    print(f\"{no} is divisible by 3 only\")\n",
    "elif(no%2==0):\n",
    "    print(f\"{no} is divisible by 2 only\")\n",
    "else:\n",
    "    print(f\"{no} is neither divisible by 2 or 3\")"
   ]
  },
  {
   "cell_type": "code",
   "execution_count": 6,
   "metadata": {},
   "outputs": [
    {
     "name": "stdout",
     "output_type": "stream",
     "text": [
      "Enter the number:400\n",
      "The factors of 400 are:\n",
      "1\n",
      "2\n",
      "4\n",
      "5\n",
      "8\n",
      "10\n",
      "16\n",
      "20\n",
      "25\n",
      "40\n",
      "50\n",
      "80\n",
      "100\n",
      "200\n",
      "400\n"
     ]
    }
   ],
   "source": [
    "# Take a number from user to find factors of a number \n",
    "num = input(\"Enter the number:\")\n",
    "num = int(num)\n",
    "x = num\n",
    "i=1\n",
    "print(f\"The factors of {num} are:\")\n",
    "for i in range(1, x+1):\n",
    "    if(num%i==0):\n",
    "        print(i)"
   ]
  },
  {
   "cell_type": "code",
   "execution_count": 15,
   "metadata": {},
   "outputs": [
    {
     "name": "stdout",
     "output_type": "stream",
     "text": [
      "Enter first number:88\n",
      "Enter second number:44\n",
      "The LCM of 88 and 44 is: 44\n"
     ]
    }
   ],
   "source": [
    "# Find LCM of 2 numbers entered by the user \n",
    "\n",
    "no1 = int(input(\"Enter first number:\"))\n",
    "no2 = int(input(\"Enter second number:\"))\n",
    "greater = 0\n",
    "lcm = 0\n",
    "if(no1>no2):\n",
    "    greater = no1\n",
    "else:\n",
    "    greater = no2\n",
    "for i in range(1,greater+1):\n",
    "    if(no1%i == 0 and no2%i == 0):\n",
    "        lcm = i\n",
    "print(f\"The LCM of {no1} and {no2} is:\", lcm)\n"
   ]
  },
  {
   "cell_type": "markdown",
   "metadata": {},
   "source": [
    "# Range function in Python: range([start], end, [jump]) \n",
    "<p>Return an object that produces a sequence of integers from start (inclusive) to stop (exclusive) by step</p>"
   ]
  },
  {
   "cell_type": "code",
   "execution_count": 209,
   "metadata": {},
   "outputs": [
    {
     "name": "stdout",
     "output_type": "stream",
     "text": [
      "[0, 1, 2, 3, 4, 5, 6, 7, 8, 9]\n",
      "[1, 3, 5, 7, 9, 11, 13, 15, 17, 19, 21, 23, 25, 27, 29, 31, 33, 35, 37, 39, 41, 43, 45, 47, 49]\n",
      "[0, 2, 4, 6, 8, 10, 12, 14, 16, 18, 20, 22, 24, 26, 28, 30, 32, 34, 36, 38, 40, 42, 44, 46, 48]\n",
      "[]\n",
      "[-10, -8, -6, -4, -2, 0, 2, 4, 6, 8]\n",
      "[10, 9, 8, 7, 6, 5, 4, 3, 2, 1]\n",
      "[10, 9, 8, 7, 6, 5, 4, 3, 2, 1, 0, -1, -2, -3, -4, -5, -6, -7, -8, -9]\n"
     ]
    }
   ],
   "source": [
    "# Range ([st], end, [jump])\n",
    "#         0    n-1    +1\n",
    "# if jump is -ve the start point should be greater than end point\n",
    "# if jump is +ve the end point should be greater than start point\n",
    "\n",
    "print(list(range(10)))\n",
    "print(list(range(1,50,2)))\n",
    "print(list(range(0,50,2)))\n",
    "print(list(range(10,-10,2)))\n",
    "print(list(range(-10,10,2)))\n",
    "print(list(range(10,0,-1)))\n",
    "print(list(range(10,-10,-1)))"
   ]
  },
  {
   "cell_type": "markdown",
   "metadata": {},
   "source": [
    "# Loops in Python:\n",
    "<ul>\n",
    "<li>While Else</li>\n",
    "<li>For</li>\n",
    "<li>Enumerate</li>\n",
    "<li>Zip</li>\n",
    "<li>Control Statement</li>\n",
    "</ul>"
   ]
  },
  {
   "cell_type": "code",
   "execution_count": 210,
   "metadata": {
    "collapsed": true
   },
   "outputs": [
    {
     "name": "stdout",
     "output_type": "stream",
     "text": [
      "0\n",
      "1\n",
      "2\n",
      "3\n",
      "4\n",
      "5\n",
      "6\n",
      "7\n",
      "8\n",
      "9\n",
      "10\n",
      "done\n"
     ]
    }
   ],
   "source": [
    "#While else loop:\n",
    "\n",
    "counter = 0\n",
    "while(counter<11):\n",
    "    print(counter)\n",
    "    counter += 1\n",
    "else:\n",
    "    print(\"done\")"
   ]
  },
  {
   "cell_type": "code",
   "execution_count": 213,
   "metadata": {
    "collapsed": true
   },
   "outputs": [
    {
     "name": "stdout",
     "output_type": "stream",
     "text": [
      "h\n",
      "e\n",
      "l\n",
      "l\n",
      "o\n",
      " \n",
      "w\n",
      "o\n",
      "r\n",
      "l\n",
      "d\n",
      "0\n",
      "1\n",
      "4\n",
      "9\n",
      "16\n",
      "25\n",
      "36\n",
      "49\n",
      "64\n",
      "81\n",
      "100\n"
     ]
    }
   ],
   "source": [
    "# For Loop: doesnt require to initialize the incremental varaible\n",
    "\n",
    "a = \"hello world\"\n",
    "\n",
    "for i in a:\n",
    "    print(i)\n",
    "\n",
    "for i in range(11):\n",
    "    print(i*i)"
   ]
  },
  {
   "cell_type": "code",
   "execution_count": 219,
   "metadata": {},
   "outputs": [
    {
     "name": "stdout",
     "output_type": "stream",
     "text": [
      "0 h\n",
      "1 e\n",
      "2 l\n",
      "3 l\n",
      "4 o\n",
      "5  \n",
      "6 w\n",
      "7 o\n",
      "8 r\n",
      "9 l\n",
      "10 d\n"
     ]
    }
   ],
   "source": [
    "# Enumerate: enumerate(data,starting index)\n",
    "\n",
    "for index, data in enumerate(\"hello world\",0):\n",
    "    print(index,data)"
   ]
  },
  {
   "cell_type": "code",
   "execution_count": 228,
   "metadata": {
    "scrolled": true
   },
   "outputs": [
    {
     "name": "stdout",
     "output_type": "stream",
     "text": [
      "('red', 'rose', 1)\n",
      "('green', 'vegetable', 2)\n",
      "('blue', 'sky', 3)\n",
      "('red', 'rose', '1')\n",
      "('green', 'vegetable', '2')\n",
      "[('red', 'rose', 1), ('green', 'vegetable', 2), ('blue', 'sky', 3)]\n",
      "[] Empty because it is already used by list so it is type casted\n",
      "red rose 1\n",
      "green vegetable 2\n",
      "blue sky 3\n"
     ]
    }
   ],
   "source": [
    "# Zip: Compresses the data to send it to another block. Only one time use.\n",
    "a = [\"red\",\"green\",\"blue\"]\n",
    "b = [\"rose\", \"vegetable\", \"sky\"]\n",
    "c = [1,2,3]\n",
    "d = [\"1\",\"2\"]\n",
    "for i in zip(a,b,c):\n",
    "    print(i)\n",
    "\n",
    "for i in zip(a,b,d):\n",
    "    print(i)\n",
    "\n",
    "compress = zip(a,b,c)\n",
    "print(list(compress))\n",
    "print(list(compress),\"Empty because it is already used by list so it is type casted\")\n",
    "\n",
    "for index,data in enumerate(zip(a,b,c)):\n",
    "    print(data[0],data[1],data[2])"
   ]
  },
  {
   "cell_type": "code",
   "execution_count": 250,
   "metadata": {
    "collapsed": true
   },
   "outputs": [
    {
     "name": "stdout",
     "output_type": "stream",
     "text": [
      "[1, 2, 3, 4, 5, 6, 7, 8, 9, 10]\n",
      "[2, 4, 6, 8, 10, 12, 14, 16, 18, 20]\n",
      "[3, 6, 9, 12, 15, 18, 21, 24, 27, 30]\n",
      "[4, 8, 12, 16, 20, 24, 28, 32, 36, 40]\n",
      "[5, 10, 15, 20, 25, 30, 35, 40, 45, 50]\n",
      "[6, 12, 18, 24, 30, 36, 42, 48, 54, 60]\n",
      "[7, 14, 21, 28, 35, 42, 49, 56, 63, 70]\n",
      "[8, 16, 24, 32, 40, 48, 56, 64, 72, 80]\n",
      "[9, 18, 27, 36, 45, 54, 63, 72, 81, 90]\n",
      "[10, 20, 30, 40, 50, 60, 70, 80, 90, 100]\n",
      "[11, 22, 33, 44, 55, 66, 77, 88, 99, 110]\n",
      "[12, 24, 36, 48, 60, 72, 84, 96, 108, 120]\n",
      "[13, 26, 39, 52, 65, 78, 91, 104, 117, 130]\n",
      "[14, 28, 42, 56, 70, 84, 98, 112, 126, 140]\n",
      "[15, 30, 45, 60, 75, 90, 105, 120, 135, 150]\n",
      "[16, 32, 48, 64, 80, 96, 112, 128, 144, 160]\n",
      "[17, 34, 51, 68, 85, 102, 119, 136, 153, 170]\n",
      "[18, 36, 54, 72, 90, 108, 126, 144, 162, 180]\n",
      "[19, 38, 57, 76, 95, 114, 133, 152, 171, 190]\n",
      "[20, 40, 60, 80, 100, 120, 140, 160, 180, 200]\n",
      "[21, 42, 63, 84, 105, 126, 147, 168, 189, 210]\n",
      "[22, 44, 66, 88, 110, 132, 154, 176, 198, 220]\n",
      "[23, 46, 69, 92, 115, 138, 161, 184, 207, 230]\n",
      "[24, 48, 72, 96, 120, 144, 168, 192, 216, 240]\n",
      "[25, 50, 75, 100, 125, 150, 175, 200, 225, 250]\n",
      "[26, 52, 78, 104, 130, 156, 182, 208, 234, 260]\n",
      "[27, 54, 81, 108, 135, 162, 189, 216, 243, 270]\n",
      "[28, 56, 84, 112, 140, 168, 196, 224, 252, 280]\n",
      "[29, 58, 87, 116, 145, 174, 203, 232, 261, 290]\n",
      "[30, 60, 90, 120, 150, 180, 210, 240, 270, 300]\n",
      "[31, 62, 93, 124, 155, 186, 217, 248, 279, 310]\n",
      "[32, 64, 96, 128, 160, 192, 224, 256, 288, 320]\n",
      "[33, 66, 99, 132, 165, 198, 231, 264, 297, 330]\n",
      "[34, 68, 102, 136, 170, 204, 238, 272, 306, 340]\n",
      "[35, 70, 105, 140, 175, 210, 245, 280, 315, 350]\n",
      "[36, 72, 108, 144, 180, 216, 252, 288, 324, 360]\n",
      "[37, 74, 111, 148, 185, 222, 259, 296, 333, 370]\n",
      "[38, 76, 114, 152, 190, 228, 266, 304, 342, 380]\n",
      "[39, 78, 117, 156, 195, 234, 273, 312, 351, 390]\n",
      "[40, 80, 120, 160, 200, 240, 280, 320, 360, 400]\n",
      "[41, 82, 123, 164, 205, 246, 287, 328, 369, 410]\n",
      "[42, 84, 126, 168, 210, 252, 294, 336, 378, 420]\n",
      "[43, 86, 129, 172, 215, 258, 301, 344, 387, 430]\n",
      "[44, 88, 132, 176, 220, 264, 308, 352, 396, 440]\n",
      "[45, 90, 135, 180, 225, 270, 315, 360, 405, 450]\n",
      "[46, 92, 138, 184, 230, 276, 322, 368, 414, 460]\n",
      "[47, 94, 141, 188, 235, 282, 329, 376, 423, 470]\n",
      "[48, 96, 144, 192, 240, 288, 336, 384, 432, 480]\n",
      "[49, 98, 147, 196, 245, 294, 343, 392, 441, 490]\n",
      "[50, 100, 150, 200, 250, 300, 350, 400, 450, 500]\n",
      "[51, 102, 153, 204, 255, 306, 357, 408, 459, 510]\n",
      "[52, 104, 156, 208, 260, 312, 364, 416, 468, 520]\n",
      "[53, 106, 159, 212, 265, 318, 371, 424, 477, 530]\n",
      "[54, 108, 162, 216, 270, 324, 378, 432, 486, 540]\n",
      "[55, 110, 165, 220, 275, 330, 385, 440, 495, 550]\n",
      "[56, 112, 168, 224, 280, 336, 392, 448, 504, 560]\n",
      "[57, 114, 171, 228, 285, 342, 399, 456, 513, 570]\n",
      "[58, 116, 174, 232, 290, 348, 406, 464, 522, 580]\n",
      "[59, 118, 177, 236, 295, 354, 413, 472, 531, 590]\n",
      "[60, 120, 180, 240, 300, 360, 420, 480, 540, 600]\n",
      "[61, 122, 183, 244, 305, 366, 427, 488, 549, 610]\n",
      "[62, 124, 186, 248, 310, 372, 434, 496, 558, 620]\n",
      "[63, 126, 189, 252, 315, 378, 441, 504, 567, 630]\n",
      "[64, 128, 192, 256, 320, 384, 448, 512, 576, 640]\n",
      "[65, 130, 195, 260, 325, 390, 455, 520, 585, 650]\n",
      "[66, 132, 198, 264, 330, 396, 462, 528, 594, 660]\n",
      "[67, 134, 201, 268, 335, 402, 469, 536, 603, 670]\n",
      "[68, 136, 204, 272, 340, 408, 476, 544, 612, 680]\n",
      "[69, 138, 207, 276, 345, 414, 483, 552, 621, 690]\n",
      "[70, 140, 210, 280, 350, 420, 490, 560, 630, 700]\n",
      "[71, 142, 213, 284, 355, 426, 497, 568, 639, 710]\n",
      "[72, 144, 216, 288, 360, 432, 504, 576, 648, 720]\n",
      "[73, 146, 219, 292, 365, 438, 511, 584, 657, 730]\n",
      "[74, 148, 222, 296, 370, 444, 518, 592, 666, 740]\n",
      "[75, 150, 225, 300, 375, 450, 525, 600, 675, 750]\n",
      "[76, 152, 228, 304, 380, 456, 532, 608, 684, 760]\n",
      "[77, 154, 231, 308, 385, 462, 539, 616, 693, 770]\n",
      "[78, 156, 234, 312, 390, 468, 546, 624, 702, 780]\n",
      "[79, 158, 237, 316, 395, 474, 553, 632, 711, 790]\n",
      "[80, 160, 240, 320, 400, 480, 560, 640, 720, 800]\n",
      "[81, 162, 243, 324, 405, 486, 567, 648, 729, 810]\n",
      "[82, 164, 246, 328, 410, 492, 574, 656, 738, 820]\n",
      "[83, 166, 249, 332, 415, 498, 581, 664, 747, 830]\n",
      "[84, 168, 252, 336, 420, 504, 588, 672, 756, 840]\n",
      "[85, 170, 255, 340, 425, 510, 595, 680, 765, 850]\n",
      "[86, 172, 258, 344, 430, 516, 602, 688, 774, 860]\n",
      "[87, 174, 261, 348, 435, 522, 609, 696, 783, 870]\n",
      "[88, 176, 264, 352, 440, 528, 616, 704, 792, 880]\n",
      "[89, 178, 267, 356, 445, 534, 623, 712, 801, 890]\n",
      "[90, 180, 270, 360, 450, 540, 630, 720, 810, 900]\n",
      "[91, 182, 273, 364, 455, 546, 637, 728, 819, 910]\n",
      "[92, 184, 276, 368, 460, 552, 644, 736, 828, 920]\n",
      "[93, 186, 279, 372, 465, 558, 651, 744, 837, 930]\n",
      "[94, 188, 282, 376, 470, 564, 658, 752, 846, 940]\n",
      "[95, 190, 285, 380, 475, 570, 665, 760, 855, 950]\n",
      "[96, 192, 288, 384, 480, 576, 672, 768, 864, 960]\n",
      "[97, 194, 291, 388, 485, 582, 679, 776, 873, 970]\n",
      "[98, 196, 294, 392, 490, 588, 686, 784, 882, 980]\n",
      "[99, 198, 297, 396, 495, 594, 693, 792, 891, 990]\n",
      "[100, 200, 300, 400, 500, 600, 700, 800, 900, 1000]\n"
     ]
    }
   ],
   "source": [
    "# Practice Code to print the tables of numbers\n",
    "\n",
    "for i in range(1,101):\n",
    "    print((list(range(i,i*11,i))))"
   ]
  },
  {
   "cell_type": "markdown",
   "metadata": {},
   "source": [
    "# Control statements:\n",
    "<li>Break - it is used to exit the current loop when invoked.</li>\n",
    "<li>Continue - it is used to skip the current iteration in the loop when invoker.</li>"
   ]
  },
  {
   "cell_type": "code",
   "execution_count": 287,
   "metadata": {
    "collapsed": true
   },
   "outputs": [
    {
     "name": "stdout",
     "output_type": "stream",
     "text": [
      "LOOP 1\n",
      "h\n",
      "e\n",
      "l\n",
      "l\n",
      "o\n",
      " \n",
      "LOOP 2\n",
      "h\n",
      "e\n",
      "l\n",
      "l\n",
      " \n",
      "w\n",
      "r\n",
      "l\n",
      "d\n",
      "\n",
      "LOOP 3\n",
      "h\n",
      "e\n",
      "l\n",
      "l\n",
      "o\n",
      " \n",
      "w\n",
      "o\n",
      "r\n",
      "l\n",
      "d\n"
     ]
    }
   ],
   "source": [
    "#Examples:\n",
    "print(\"LOOP 1\")\n",
    "for i in \"hello world\":\n",
    "    if(i==\"w\"):\n",
    "        break\n",
    "        print(\"Loop Break\")\n",
    "    print(i)\n",
    "\n",
    "print(\"LOOP 2\")\n",
    "for i in \"hello world\":\n",
    "    if(i==\"o\"):\n",
    "        continue\n",
    "        print(\"Loop continued\")\n",
    "    print(i)\n",
    "print()\n",
    "\n",
    "print(\"LOOP 3\")\n",
    "for i in \"hello world\":\n",
    "    if(i==\"o\"):\n",
    "        pass\n",
    "    print(i)"
   ]
  },
  {
   "cell_type": "code",
   "execution_count": null,
   "metadata": {},
   "outputs": [
    {
     "name": "stdout",
     "output_type": "stream",
     "text": [
      "Welcome to Makshah Restaurant\n",
      "Enter the number of persons:1\n",
      "Enter the 1 person's starter price:10\n",
      "Enter the 1 person's meal price:20\n",
      "Enter the 1 person's dessert price:30\n",
      "The bill of 1 person is: 60\n",
      "The total bill of 1 people is: 69.0\n",
      "Do you have a coupon (y / n ):y\n",
      "Enter the discount percentage:10\n",
      "The total bill of 1 people after the dsicount is: 62.1\n",
      "Enter the number of persons:2\n",
      "Enter the 1 person's starter price:200\n",
      "Enter the 1 person's meal price:300\n",
      "Enter the 1 person's dessert price:100\n",
      "The bill of 1 person is: 600\n",
      "Enter the 2 person's starter price:200\n",
      "Enter the 2 person's meal price:400\n",
      "Enter the 2 person's dessert price:150\n",
      "The bill of 2 person is: 750\n",
      "The total bill of 2 people is: 1552.5\n",
      "Do you have a coupon (y / n ):y\n",
      "Enter the discount percentage:12\n",
      "The total bill of 2 people after the dsicount is: 1366.2\n"
     ]
    }
   ],
   "source": [
    "#Project on Restaurant Management: in infinity loop, ask for the number of person, \n",
    "#individual starter meal and desert price and generate total bill and add a discount if any\n",
    "\n",
    "print(\"Welcome to Makshah Restaurant\")\n",
    "while(True):\n",
    "    person = input(\"Enter the number of persons:\")\n",
    "    person = int(person)\n",
    "    total_bill=0\n",
    "    for i in range(1,person+1):\n",
    "        starter=input(f\"Enter the {i} person's starter price:\")\n",
    "        starter=int(starter)\n",
    "        meal=input(f\"Enter the {i} person's meal price:\")\n",
    "        meal=int(meal)\n",
    "        dessert=input(f\"Enter the {i} person's dessert price:\")\n",
    "        dessert=int(dessert)\n",
    "        total = starter + meal + dessert\n",
    "        print(f\"The bill of {i} person is:\",total)\n",
    "        total_bill += total\n",
    "    total_bill = total_bill + total_bill*0.15\n",
    "    print(f\"The total bill of {person} people is:\", total_bill)\n",
    "    coupon = input(\"Do you have a coupon (y / n ):\")\n",
    "    coupon = str(coupon)\n",
    "    if(coupon == 'y'or'Y'):\n",
    "        disc = input(\"Enter the discount percentage:\")\n",
    "        disc = int(disc)\n",
    "        disc = disc / 100\n",
    "        total_bill = total_bill - total_bill*disc\n",
    "    elif(coupon == 'n'or'N'):\n",
    "        print(\"No discount\")\n",
    "    else:\n",
    "        print(\"Invalid response.\")\n",
    "    print(f\"The total bill of {person} people after the dsicount is:\", total_bill)"
   ]
  }
 ],
 "metadata": {
  "kernelspec": {
   "display_name": "Python 3",
   "language": "python",
   "name": "python3"
  },
  "language_info": {
   "codemirror_mode": {
    "name": "ipython",
    "version": 3
   },
   "file_extension": ".py",
   "mimetype": "text/x-python",
   "name": "python",
   "nbconvert_exporter": "python",
   "pygments_lexer": "ipython3",
   "version": "3.6.1"
  }
 },
 "nbformat": 4,
 "nbformat_minor": 2
}
